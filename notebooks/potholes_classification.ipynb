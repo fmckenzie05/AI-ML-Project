{
 "cells": [
  {
   "cell_type": "code",
   "execution_count": 10,
   "metadata": {},
   "outputs": [],
   "source": [
    "#import libraries\n",
    "import json\n",
    "import os\n",
    "import xml.etree.ElementTree as ET\n",
    "from PIL import Image\n",
    "\n",
    "import tensorflow as tf\n",
    "from tensorflow import keras\n",
    "from tensorflow.keras import layers\n",
    "from tensorflow.keras.models import Sequential"
   ]
  },
  {
   "cell_type": "code",
   "execution_count": 6,
   "metadata": {},
   "outputs": [],
   "source": [
    "#load dataset splits\n",
    "with open('archive/splits.json', 'r') as json_splits:\n",
    "  data = json.load(json_splits)\n",
    "\n",
    "#split data into train and test\n",
    "train_imgs = data[\"train\"]\n",
    "test_imgs = data[\"test\"]"
   ]
  },
  {
   "cell_type": "code",
   "execution_count": 4,
   "metadata": {},
   "outputs": [],
   "source": [
    "#function to extract image path from xml file\n",
    "def extract_image_path(xml_file):\n",
    "    tree = ET.parse(xml_file)\n",
    "    root = tree.getroot()\n",
    "    #jpg path found on <path> tag\n",
    "    path_element = root.find('path')\n",
    "    if path_element is not None:\n",
    "        return path_element.text\n",
    "    return None\n",
    "\n",
    "train_image_paths = []\n",
    "for xml_file in train_imgs:\n",
    "    xml_path = os.path.join('archive/annotated-images/', xml_file)\n",
    "    image_path = extract_image_path(xml_path)\n",
    "    \n",
    "    if image_path:\n",
    "        image_full_path = os.path.join('archive/annotated-images/', image_path)\n",
    "        train_image_paths.append(image_full_path)"
   ]
  },
  {
   "cell_type": "code",
   "execution_count": 7,
   "metadata": {},
   "outputs": [],
   "source": [
    "train_image_paths = []\n",
    "test_image_paths = []\n",
    "\n",
    "old_string = '/CSE-800/Thesis/2020-01-23/dataset'\n",
    "new_string = 'archive/annotated-images'\n",
    "\n",
    "def extract_image_path(xml_file):\n",
    "    tree = ET.parse(xml_file)\n",
    "    root = tree.getroot()\n",
    "    path_element = root.find('path')\n",
    "    return path_element.text\n",
    "\n",
    "#get image paths for train_imgs\n",
    "for xml_file in train_imgs:\n",
    "    xml_path = os.path.join('archive/annotated-images/', xml_file)\n",
    "    image_path = extract_image_path(xml_path)\n",
    "    if image_path:\n",
    "        image_full_path = os.path.join('archive/annotated-images/', image_path)\n",
    "        train_image_paths.append(image_full_path)\n",
    "train_image_paths = [path.replace(old_string, new_string) for path in train_image_paths]\n",
    "\n",
    "#get image paths for test_imgs\n",
    "for xml_file in test_imgs:\n",
    "    xml_path = os.path.join('archive/annotated-images/', xml_file)\n",
    "    image_path = extract_image_path(xml_path)\n",
    "    if image_path:\n",
    "        image_full_path = os.path.join('archive/annotated-images/', image_path)\n",
    "        test_image_paths.append(image_full_path)\n",
    "test_image_paths = [path.replace(old_string, new_string) for path in test_image_paths]\n"
   ]
  },
  {
   "cell_type": "code",
   "execution_count": 8,
   "metadata": {},
   "outputs": [],
   "source": [
    "#display image at index 0 on each split\n",
    "Image.open(train_image_paths[0]).show()\n",
    "Image.open(test_image_paths[0]).show()"
   ]
  },
  {
   "cell_type": "code",
   "execution_count": 11,
   "metadata": {},
   "outputs": [],
   "source": [
    "model = tf.keras.models.Sequential([\n",
    "    tf.keras.layers.Conv2D(64, (3, 3), activation='relu', input_shape=(720, 720, 3)),\n",
    "    tf.keras.layers.MaxPooling2D(2, 2),\n",
    "    tf.keras.layers.Conv2D(64, (3, 3), activation='relu'),\n",
    "    tf.keras.layers.MaxPooling2D(2, 2),\n",
    "    tf.keras.layers.Conv2D(128, (3, 3), activation='relu'),\n",
    "    tf.keras.layers.MaxPooling2D(2, 2),\n",
    "    tf.keras.layers.Conv2D(128, (3, 3), activation='relu'),\n",
    "    tf.keras.layers.MaxPooling2D(2, 2),\n",
    "    tf.keras.layers.Flatten(),\n",
    "    tf.keras.layers.Dense(512, activation='relu'),\n",
    "    tf.keras.layers.Dense(3, activation='softmax')\n",
    "])"
   ]
  },
  {
   "cell_type": "code",
   "execution_count": null,
   "metadata": {},
   "outputs": [],
   "source": [
    "model.compile(loss='categorical_crossentropy', optimizer='rmsprop', metrics=['accuracy'])\n",
    "#TRAIN_IMAGE_PATHS IS A LIST OF PATHS. TO WORK IN HISOTRY IT MUST GET THE ACTUAL IMAGE\n",
    "history = model.fit(train_image_paths, epochs=25)"
   ]
  }
 ],
 "metadata": {
  "kernelspec": {
   "display_name": "Python 3",
   "language": "python",
   "name": "python3"
  },
  "language_info": {
   "codemirror_mode": {
    "name": "ipython",
    "version": 3
   },
   "file_extension": ".py",
   "mimetype": "text/x-python",
   "name": "python",
   "nbconvert_exporter": "python",
   "pygments_lexer": "ipython3",
   "version": "3.10.5"
  },
  "orig_nbformat": 4
 },
 "nbformat": 4,
 "nbformat_minor": 2
}
